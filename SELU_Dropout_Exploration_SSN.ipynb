{
 "cells": [
  {
   "cell_type": "code",
   "execution_count": 1,
   "metadata": {},
   "outputs": [
    {
     "name": "stderr",
     "output_type": "stream",
     "text": [
      "Using TensorFlow backend.\n"
     ]
    }
   ],
   "source": [
    "import numpy as np\n",
    "import matplotlib.pyplot as plt\n",
    "plt.rcParams['figure.figsize'] = (7,7) # Make the figures a bit bigger\n",
    "\n",
    "from keras.datasets import mnist\n",
    "from keras.models import Sequential\n",
    "from keras.layers.core import Dense, Dropout, Activation\n",
    "from keras.layers.noise import AlphaDropout\n",
    "from keras.utils import np_utils"
   ]
  },
  {
   "cell_type": "code",
   "execution_count": 2,
   "metadata": {},
   "outputs": [
    {
     "name": "stdout",
     "output_type": "stream",
     "text": [
      "('X_train original shape', (60000, 28, 28))\n",
      "('y_train original shape', (60000,))\n"
     ]
    }
   ],
   "source": [
    "nb_classes = 10\n",
    "\n",
    "# the data, shuffled and split between tran and test sets\n",
    "(X_train, y_train), (X_test, y_test) = mnist.load_data()\n",
    "print(\"X_train original shape\", X_train.shape)\n",
    "print(\"y_train original shape\", y_train.shape)"
   ]
  },
  {
   "cell_type": "code",
   "execution_count": 3,
   "metadata": {},
   "outputs": [
    {
     "data": {
      "image/png": "[encoded data removed]",
      "text/plain": [
       "<matplotlib.figure.Figure at 0x7fb8d9d24810>"
      ]
     },
     "metadata": {},
     "output_type": "display_data"
    }
   ],
   "source": [
    "%matplotlib inline\n",
    "\n",
    "for i in range(9):\n",
    "    plt.subplot(3,3,i+1)\n",
    "    plt.imshow(X_train[i], cmap='gray', interpolation='none')\n",
    "    plt.title(\"Class {}\".format(y_train[i]))"
   ]
  },
  {
   "cell_type": "code",
   "execution_count": 4,
   "metadata": {},
   "outputs": [
    {
     "name": "stdout",
     "output_type": "stream",
     "text": [
      "('Training matrix shape', (60000, 784))\n",
      "('Testing matrix shape', (10000, 784))\n"
     ]
    }
   ],
   "source": [
    "X_train = X_train.reshape(60000, 784)\n",
    "X_test = X_test.reshape(10000, 784)\n",
    "X_train = X_train.astype('float32')\n",
    "X_test = X_test.astype('float32')\n",
    "X_train /= 255\n",
    "X_test /= 255\n",
    "print(\"Training matrix shape\", X_train.shape)\n",
    "print(\"Testing matrix shape\", X_test.shape)"
   ]
  },
  {
   "cell_type": "code",
   "execution_count": 5,
   "metadata": {
    "collapsed": true
   },
   "outputs": [],
   "source": [
    "Y_train = np_utils.to_categorical(y_train, nb_classes)\n",
    "Y_test = np_utils.to_categorical(y_test, nb_classes)"
   ]
  },
  {
   "cell_type": "code",
   "execution_count": 6,
   "metadata": {
    "collapsed": true
   },
   "outputs": [],
   "source": [
    "# SELU based activation. very similar useage as RELU. \n",
    "# NOTE: New type of AlphaDropout for SELU\n",
    "\n",
    "model = Sequential()\n",
    "model.add(Dense(512, input_shape=(784,)))\n",
    "model.add(Activation('selu')) \n",
    "model.add(AlphaDropout(0.2))\n",
    "model.add(Dense(512))\n",
    "model.add(Activation('selu'))\n",
    "model.add(AlphaDropout(0.2))\n",
    "model.add(Dense(10))\n",
    "model.add(Activation('softmax'))"
   ]
  },
  {
   "cell_type": "code",
   "execution_count": 7,
   "metadata": {
    "collapsed": true
   },
   "outputs": [],
   "source": [
    "model.compile(loss='categorical_crossentropy', optimizer='adam')"
   ]
  },
  {
   "cell_type": "code",
   "execution_count": 8,
   "metadata": {},
   "outputs": [
    {
     "name": "stdout",
     "output_type": "stream",
     "text": [
      "Epoch 1/10\n",
      "60000/60000 [==============================] - 3s - loss: 0.4150     \n",
      "Epoch 2/10\n",
      "60000/60000 [==============================] - 2s - loss: 0.2091     \n",
      "Epoch 3/10\n",
      "60000/60000 [==============================] - 2s - loss: 0.1515     \n",
      "Epoch 4/10\n",
      "60000/60000 [==============================] - 2s - loss: 0.1222     \n",
      "Epoch 5/10\n",
      "60000/60000 [==============================] - 2s - loss: 0.1021     \n",
      "Epoch 6/10\n",
      "60000/60000 [==============================] - 2s - loss: 0.0889     \n",
      "Epoch 7/10\n",
      "60000/60000 [==============================] - 2s - loss: 0.0771     \n",
      "Epoch 8/10\n",
      "60000/60000 [==============================] - 2s - loss: 0.0705     \n",
      "Epoch 9/10\n",
      "60000/60000 [==============================] - 2s - loss: 0.0619     \n",
      "Epoch 10/10\n",
      "60000/60000 [==============================] - 2s - loss: 0.0585     \n"
     ]
    },
    {
     "data": {
      "text/plain": [
       "<keras.callbacks.History at 0x7fb8d7b7f2d0>"
      ]
     },
     "execution_count": 8,
     "metadata": {},
     "output_type": "execute_result"
    }
   ],
   "source": [
    "model.fit(X_train, Y_train, batch_size=128, epochs=10, verbose=1)"
   ]
  },
  {
   "cell_type": "code",
   "execution_count": 9,
   "metadata": {},
   "outputs": [
    {
     "name": "stdout",
     "output_type": "stream",
     "text": [
      " 9664/10000 [===========================>..] - ETA: 0s"
     ]
    },
    {
     "data": {
      "text/plain": [
       "0.092325189258183393"
      ]
     },
     "execution_count": 9,
     "metadata": {},
     "output_type": "execute_result"
    }
   ],
   "source": [
    "score = model.evaluate(X_test, Y_test)\n",
    "score"
   ]
  },
  {
   "cell_type": "code",
   "execution_count": 10,
   "metadata": {},
   "outputs": [
    {
     "name": "stdout",
     "output_type": "stream",
     "text": [
      " 9760/10000 [============================>.] - ETA: 0s"
     ]
    }
   ],
   "source": [
    "predicted_classes = model.predict_classes(X_test)\n",
    "correct_indices = np.nonzero(predicted_classes == y_test)[0]\n",
    "incorrect_indices = np.nonzero(predicted_classes != y_test)[0]"
   ]
  },
  {
   "cell_type": "code",
   "execution_count": 11,
   "metadata": {},
   "outputs": [
    {
     "data": {
      "text/plain": [
       "array([   0,    1,    2, ..., 9997, 9998, 9999])"
      ]
     },
     "execution_count": 11,
     "metadata": {},
     "output_type": "execute_result"
    }
   ],
   "source": [
    "correct_indices"
   ]
  },
  {
   "cell_type": "code",
   "execution_count": 12,
   "metadata": {},
   "outputs": [
    {
     "data": {
      "text/plain": [
       "array([ 104,  151,  158,  241,  247,  274,  321,  340,  347,  445,  447,\n",
       "        448,  578,  582,  619,  659,  720,  846,  895,  944,  951,  956,\n",
       "        965, 1014, 1039, 1044, 1112, 1156, 1182, 1194, 1224, 1226, 1232,\n",
       "       1247, 1260, 1319, 1328, 1393, 1414, 1494, 1500, 1522, 1549, 1553,\n",
       "       1609, 1681, 1709, 1717, 1754, 1790, 1878, 1901, 1955, 1984, 1987,\n",
       "       2016, 2024, 2040, 2070, 2098, 2109, 2118, 2135, 2162, 2182, 2224,\n",
       "       2237, 2272, 2293, 2329, 2387, 2414, 2422, 2426, 2488, 2582, 2597,\n",
       "       2607, 2648, 2654, 2713, 2720, 2743, 2810, 2863, 2896, 2915, 2921,\n",
       "       2927, 2939, 2953, 3030, 3073, 3115, 3117, 3225, 3405, 3422, 3503,\n",
       "       3520, 3534, 3549, 3558, 3567, 3597, 3751, 3776, 3780, 3808, 3838,\n",
       "       3893, 3906, 3941, 3976, 4007, 4065, 4075, 4078, 4193, 4207, 4224,\n",
       "       4248, 4259, 4271, 4289, 4294, 4306, 4355, 4360, 4425, 4437, 4443,\n",
       "       4497, 4536, 4635, 4690, 4740, 4761, 4807, 4814, 4876, 4880, 4966,\n",
       "       5078, 5140, 5199, 5331, 5642, 5734, 5835, 5858, 5937, 5955, 5972,\n",
       "       5973, 6011, 6023, 6026, 6059, 6065, 6166, 6421, 6555, 6574, 6576,\n",
       "       6597, 6651, 6755, 6783, 6817, 6847, 6926, 7216, 7233, 7451, 7595,\n",
       "       7800, 7821, 8020, 8094, 8246, 8277, 8311, 8325, 8456, 8502, 8523,\n",
       "       9009, 9015, 9024, 9587, 9664, 9669, 9729, 9745, 9768, 9770, 9779,\n",
       "       9792, 9808, 9867, 9944])"
      ]
     },
     "execution_count": 12,
     "metadata": {},
     "output_type": "execute_result"
    }
   ],
   "source": [
    "incorrect_indices"
   ]
  },
  {
   "cell_type": "code",
   "execution_count": 13,
   "metadata": {},
   "outputs": [
    {
     "data": {
      "image/png": "[encoded data removed]",
      "text/plain": [
       "<matplotlib.figure.Figure at 0x7fb8d7a4a910>"
      ]
     },
     "metadata": {},
     "output_type": "display_data"
    },
    {
     "data": {
      "image/png": "[encoded data removed]",
      "text/plain": [
       "<matplotlib.figure.Figure at 0x7fb8d6a16690>"
      ]
     },
     "metadata": {},
     "output_type": "display_data"
    }
   ],
   "source": [
    "plt.figure()\n",
    "for i, correct in enumerate(correct_indices[:9]):\n",
    "    plt.subplot(3,3,i+1)\n",
    "    plt.imshow(X_test[correct].reshape(28,28), cmap='gray', interpolation='none')\n",
    "    plt.title(\"Predicted {}, Class {}\".format(predicted_classes[correct], y_test[correct]))\n",
    "    \n",
    "plt.figure()\n",
    "for i, incorrect in enumerate(incorrect_indices[:9]):\n",
    "    plt.subplot(3,3,i+1)\n",
    "    plt.imshow(X_test[incorrect].reshape(28,28), cmap='gray', interpolation='none')\n",
    "    plt.title(\"Predicted {}, Class {}\".format(predicted_classes[incorrect], y_test[incorrect]))"
   ]
  },
  {
   "cell_type": "code",
   "execution_count": null,
   "metadata": {
    "collapsed": true
   },
   "outputs": [],
   "source": []
  }
 ],
 "metadata": {
  "kernelspec": {
   "display_name": "Python 2",
   "language": "python",
   "name": "python2"
  },
  "language_info": {
   "codemirror_mode": {
    "name": "ipython",
    "version": 2
   },
   "file_extension": ".py",
   "mimetype": "text/x-python",
   "name": "python",
   "nbconvert_exporter": "python",
   "pygments_lexer": "ipython2",
   "version": "2.7.6"
  }
 },
 "nbformat": 4,
 "nbformat_minor": 2
}
