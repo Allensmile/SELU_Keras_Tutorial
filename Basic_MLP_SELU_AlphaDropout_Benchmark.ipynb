{
 "cells": [
  {
   "cell_type": "code",
   "execution_count": 4,
   "metadata": {},
   "outputs": [
    {
     "name": "stdout",
     "output_type": "stream",
     "text": [
      "60000 train samples\n",
      "10000 test samples\n",
      "_________________________________________________________________\n",
      "Layer (type)                 Output Shape              Param #   \n",
      "=================================================================\n",
      "dense_10 (Dense)             (None, 512)               401920    \n",
      "_________________________________________________________________\n",
      "alpha_dropout_7 (AlphaDropou (None, 512)               0         \n",
      "_________________________________________________________________\n",
      "dense_11 (Dense)             (None, 512)               262656    \n",
      "_________________________________________________________________\n",
      "alpha_dropout_8 (AlphaDropou (None, 512)               0         \n",
      "_________________________________________________________________\n",
      "dense_12 (Dense)             (None, 10)                5130      \n",
      "=================================================================\n",
      "Total params: 669,706\n",
      "Trainable params: 669,706\n",
      "Non-trainable params: 0\n",
      "_________________________________________________________________\n",
      "Train on 60000 samples, validate on 10000 samples\n",
      "Epoch 1/20\n",
      "60000/60000 [==============================] - 1s - loss: 0.4397 - acc: 0.8639 - val_loss: 0.2583 - val_acc: 0.9365\n",
      "Epoch 2/20\n",
      "60000/60000 [==============================] - 1s - loss: 0.2067 - acc: 0.9379 - val_loss: 0.2071 - val_acc: 0.9527\n",
      "Epoch 3/20\n",
      "60000/60000 [==============================] - 1s - loss: 0.1477 - acc: 0.9544 - val_loss: 0.1393 - val_acc: 0.9654\n",
      "Epoch 4/20\n",
      "60000/60000 [==============================] - 1s - loss: 0.1184 - acc: 0.9627 - val_loss: 0.1257 - val_acc: 0.9705\n",
      "Epoch 5/20\n",
      "60000/60000 [==============================] - 1s - loss: 0.1032 - acc: 0.9684 - val_loss: 0.1184 - val_acc: 0.9731\n",
      "Epoch 6/20\n",
      "60000/60000 [==============================] - 1s - loss: 0.0890 - acc: 0.9726 - val_loss: 0.1140 - val_acc: 0.9742\n",
      "Epoch 7/20\n",
      "60000/60000 [==============================] - 1s - loss: 0.0798 - acc: 0.9751 - val_loss: 0.1131 - val_acc: 0.9770\n",
      "Epoch 8/20\n",
      "60000/60000 [==============================] - 1s - loss: 0.0711 - acc: 0.9782 - val_loss: 0.1230 - val_acc: 0.9747\n",
      "Epoch 9/20\n",
      "60000/60000 [==============================] - 1s - loss: 0.0664 - acc: 0.9791 - val_loss: 0.1141 - val_acc: 0.9794\n",
      "Epoch 10/20\n",
      "60000/60000 [==============================] - 1s - loss: 0.0603 - acc: 0.9814 - val_loss: 0.1195 - val_acc: 0.9789\n",
      "Epoch 11/20\n",
      "60000/60000 [==============================] - 1s - loss: 0.0556 - acc: 0.9828 - val_loss: 0.1031 - val_acc: 0.9803\n",
      "Epoch 12/20\n",
      "60000/60000 [==============================] - 1s - loss: 0.0509 - acc: 0.9842 - val_loss: 0.1023 - val_acc: 0.9820\n",
      "Epoch 13/20\n",
      "60000/60000 [==============================] - 1s - loss: 0.0482 - acc: 0.9848 - val_loss: 0.1282 - val_acc: 0.9786\n",
      "Epoch 14/20\n",
      "60000/60000 [==============================] - 1s - loss: 0.0449 - acc: 0.9866 - val_loss: 0.1181 - val_acc: 0.9818\n",
      "Epoch 15/20\n",
      "60000/60000 [==============================] - 1s - loss: 0.0412 - acc: 0.9874 - val_loss: 0.1378 - val_acc: 0.9791\n",
      "Epoch 16/20\n",
      "60000/60000 [==============================] - 1s - loss: 0.0414 - acc: 0.9872 - val_loss: 0.1216 - val_acc: 0.9807\n",
      "Epoch 17/20\n",
      "60000/60000 [==============================] - 1s - loss: 0.0366 - acc: 0.9887 - val_loss: 0.1330 - val_acc: 0.9813\n",
      "Epoch 18/20\n",
      "60000/60000 [==============================] - 1s - loss: 0.0354 - acc: 0.9888 - val_loss: 0.1146 - val_acc: 0.9820\n",
      "Epoch 19/20\n",
      "60000/60000 [==============================] - 1s - loss: 0.0326 - acc: 0.9903 - val_loss: 0.1168 - val_acc: 0.9831\n",
      "Epoch 20/20\n",
      "60000/60000 [==============================] - 2s - loss: 0.0315 - acc: 0.9904 - val_loss: 0.1269 - val_acc: 0.9839\n",
      "Test loss: 0.12688012628\n",
      "Test accuracy: 0.9839\n"
     ]
    }
   ],
   "source": [
    "'''Trains a simple deep NN on the MNIST dataset.\n",
    "\n",
    "Gets to 98.40% test accuracy after 20 epochs\n",
    "(there is *a lot* of margin for parameter tuning).\n",
    "2 seconds per epoch on a K520 GPU.\n",
    "\n",
    "\n",
    "'''\n",
    "\n",
    "from __future__ import print_function\n",
    "\n",
    "import keras\n",
    "from keras.datasets import mnist\n",
    "from keras.models import Sequential\n",
    "from keras.layers.core import Dense, Dropout, Activation\n",
    "from keras.layers.noise import AlphaDropout\n",
    "from keras.utils import np_utils\n",
    "from keras.optimizers import RMSprop\n",
    "\n",
    "batch_size = 128\n",
    "num_classes = 10\n",
    "epochs = 20\n",
    "\n",
    "# the data, shuffled and split between train and test sets\n",
    "(x_train, y_train), (x_test, y_test) = mnist.load_data()\n",
    "\n",
    "x_train = x_train.reshape(60000, 784)\n",
    "x_test = x_test.reshape(10000, 784)\n",
    "x_train = x_train.astype('float32')\n",
    "x_test = x_test.astype('float32')\n",
    "x_train /= 255\n",
    "x_test /= 255\n",
    "print(x_train.shape[0], 'train samples')\n",
    "print(x_test.shape[0], 'test samples')\n",
    "\n",
    "# convert class vectors to binary class matrices\n",
    "y_train = keras.utils.to_categorical(y_train, num_classes)\n",
    "y_test = keras.utils.to_categorical(y_test, num_classes)\n",
    "\n",
    "model = Sequential()\n",
    "model.add(Dense(512, activation='selu', input_shape=(784,)))\n",
    "model.add(AlphaDropout(0.2))\n",
    "model.add(Dense(512, activation='selu'))\n",
    "model.add(AlphaDropout(0.2))\n",
    "model.add(Dense(10, activation='softmax'))\n",
    "\n",
    "model.summary()\n",
    "\n",
    "model.compile(loss='categorical_crossentropy',\n",
    "              optimizer=RMSprop(),\n",
    "              metrics=['accuracy'])\n",
    "\n",
    "history = model.fit(x_train, y_train,\n",
    "                    batch_size=batch_size,\n",
    "                    epochs=epochs,\n",
    "                    verbose=1,\n",
    "                    validation_data=(x_test, y_test))\n",
    "score = model.evaluate(x_test, y_test, verbose=0)\n",
    "print('Test loss:', score[0])\n",
    "print('Test accuracy:', score[1])"
   ]
  },
  {
   "cell_type": "code",
   "execution_count": 10,
   "metadata": {},
   "outputs": [
    {
     "data": {
      "text/plain": [
       "['acc', 'loss', 'val_acc', 'val_loss']"
      ]
     },
     "execution_count": 10,
     "metadata": {},
     "output_type": "execute_result"
    }
   ],
   "source": [
    "history.history.keys()"
   ]
  },
  {
   "cell_type": "code",
   "execution_count": 16,
   "metadata": {},
   "outputs": [
    {
     "data": {
      "image/png": "[encoded data removed]",
      "text/plain": [
       "<matplotlib.figure.Figure at 0x7fb678fe0f10>"
      ]
     },
     "metadata": {},
     "output_type": "display_data"
    }
   ],
   "source": [
    "import matplotlib.pyplot as plt\n",
    "import pylab\n",
    "\n",
    "plt.plot(history.history['acc'])\n",
    "plt.plot(history.history['val_acc'])\n",
    "plt.title('model accuracy')\n",
    "plt.ylabel('accuracy')\n",
    "plt.xlabel('epoch')\n",
    "plt.legend(['train', 'test'], loc='upper left')\n",
    "plt.show()"
   ]
  },
  {
   "cell_type": "code",
   "execution_count": 17,
   "metadata": {},
   "outputs": [
    {
     "data": {
      "image/png": "[encoded data removed]",
      "text/plain": [
       "<matplotlib.figure.Figure at 0x7fb6e86893d0>"
      ]
     },
     "metadata": {},
     "output_type": "display_data"
    }
   ],
   "source": [
    "plt.plot(history.history['loss'])\n",
    "plt.plot(history.history['val_loss'])\n",
    "plt.title('model loss')\n",
    "plt.ylabel('loss')\n",
    "plt.xlabel('epoch')\n",
    "plt.legend(['train', 'test'], loc='upper left')\n",
    "plt.show()"
   ]
  },
  {
   "cell_type": "code",
   "execution_count": null,
   "metadata": {
    "collapsed": true
   },
   "outputs": [],
   "source": []
  }
 ],
 "metadata": {
  "kernelspec": {
   "display_name": "Python 2",
   "language": "python",
   "name": "python2"
  },
  "language_info": {
   "codemirror_mode": {
    "name": "ipython",
    "version": 2
   },
   "file_extension": ".py",
   "mimetype": "text/x-python",
   "name": "python",
   "nbconvert_exporter": "python",
   "pygments_lexer": "ipython2",
   "version": "2.7.6"
  }
 },
 "nbformat": 4,
 "nbformat_minor": 2
}
