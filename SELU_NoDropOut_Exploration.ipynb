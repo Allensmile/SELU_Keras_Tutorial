{
 "cells": [
  {
   "cell_type": "code",
   "execution_count": 1,
   "metadata": {},
   "outputs": [
    {
     "name": "stderr",
     "output_type": "stream",
     "text": [
      "Using TensorFlow backend.\n"
     ]
    }
   ],
   "source": [
    "import numpy as np\n",
    "import matplotlib.pyplot as plt\n",
    "plt.rcParams['figure.figsize'] = (7,7) # Make the figures a bit bigger\n",
    "\n",
    "from keras.datasets import mnist\n",
    "from keras.models import Sequential\n",
    "from keras.layers.core import Dense, Dropout, Activation\n",
    "from keras.utils import np_utils"
   ]
  },
  {
   "cell_type": "code",
   "execution_count": 2,
   "metadata": {},
   "outputs": [
    {
     "name": "stdout",
     "output_type": "stream",
     "text": [
      "Downloading data from https://s3.amazonaws.com/img-datasets/mnist.npz\n",
      "11337728/11490434 [============================>.] - ETA: 0s('X_train original shape', (60000, 28, 28))\n",
      "('y_train original shape', (60000,))\n"
     ]
    }
   ],
   "source": [
    "nb_classes = 10\n",
    "\n",
    "# the data, shuffled and split between tran and test sets\n",
    "(X_train, y_train), (X_test, y_test) = mnist.load_data()\n",
    "print(\"X_train original shape\", X_train.shape)\n",
    "print(\"y_train original shape\", y_train.shape)"
   ]
  },
  {
   "cell_type": "code",
   "execution_count": 4,
   "metadata": {},
   "outputs": [
    {
     "data": {
      "image/png": "[encoded data removed]",
      "text/plain": [
       "<matplotlib.figure.Figure at 0x7fbc4ac7f1d0>"
      ]
     },
     "metadata": {},
     "output_type": "display_data"
    }
   ],
   "source": [
    "%matplotlib inline\n",
    "\n",
    "for i in range(9):\n",
    "    plt.subplot(3,3,i+1)\n",
    "    plt.imshow(X_train[i], cmap='gray', interpolation='none')\n",
    "    plt.title(\"Class {}\".format(y_train[i]))"
   ]
  },
  {
   "cell_type": "code",
   "execution_count": 5,
   "metadata": {},
   "outputs": [
    {
     "name": "stdout",
     "output_type": "stream",
     "text": [
      "('Training matrix shape', (60000, 784))\n",
      "('Testing matrix shape', (10000, 784))\n"
     ]
    }
   ],
   "source": [
    "X_train = X_train.reshape(60000, 784)\n",
    "X_test = X_test.reshape(10000, 784)\n",
    "X_train = X_train.astype('float32')\n",
    "X_test = X_test.astype('float32')\n",
    "X_train /= 255\n",
    "X_test /= 255\n",
    "print(\"Training matrix shape\", X_train.shape)\n",
    "print(\"Testing matrix shape\", X_test.shape)"
   ]
  },
  {
   "cell_type": "code",
   "execution_count": 6,
   "metadata": {
    "collapsed": true
   },
   "outputs": [],
   "source": [
    "Y_train = np_utils.to_categorical(y_train, nb_classes)\n",
    "Y_test = np_utils.to_categorical(y_test, nb_classes)"
   ]
  },
  {
   "cell_type": "code",
   "execution_count": 7,
   "metadata": {
    "collapsed": true
   },
   "outputs": [],
   "source": [
    "# SELU based activation. very similar useage as RELU. no dropout.\n",
    "\n",
    "model = Sequential()\n",
    "model.add(Dense(512, input_shape=(784,)))\n",
    "model.add(Activation('selu')) \n",
    "model.add(Dense(512))\n",
    "model.add(Activation('selu'))\n",
    "model.add(Dense(10))\n",
    "model.add(Activation('softmax'))"
   ]
  },
  {
   "cell_type": "code",
   "execution_count": 8,
   "metadata": {
    "collapsed": true
   },
   "outputs": [],
   "source": [
    "model.compile(loss='categorical_crossentropy', optimizer='adam')"
   ]
  },
  {
   "cell_type": "code",
   "execution_count": 12,
   "metadata": {},
   "outputs": [
    {
     "name": "stdout",
     "output_type": "stream",
     "text": [
      "Epoch 1/10\n",
      "60000/60000 [==============================] - 3s - loss: 0.3178     \n",
      "Epoch 2/10\n",
      "60000/60000 [==============================] - 2s - loss: 0.1464     \n",
      "Epoch 3/10\n",
      "60000/60000 [==============================] - 2s - loss: 0.1010     \n",
      "Epoch 4/10\n",
      "60000/60000 [==============================] - 2s - loss: 0.0774     \n",
      "Epoch 5/10\n",
      "60000/60000 [==============================] - 2s - loss: 0.0621     \n",
      "Epoch 6/10\n",
      "60000/60000 [==============================] - 2s - loss: 0.0553     \n",
      "Epoch 7/10\n",
      "60000/60000 [==============================] - 2s - loss: 0.0468     \n",
      "Epoch 8/10\n",
      "60000/60000 [==============================] - 2s - loss: 0.0430     \n",
      "Epoch 9/10\n",
      "60000/60000 [==============================] - 2s - loss: 0.0377     \n",
      "Epoch 10/10\n",
      "60000/60000 [==============================] - 2s - loss: 0.0333     \n"
     ]
    },
    {
     "data": {
      "text/plain": [
       "<keras.callbacks.History at 0x7fbc4c48afd0>"
      ]
     },
     "execution_count": 12,
     "metadata": {},
     "output_type": "execute_result"
    }
   ],
   "source": [
    "model.fit(X_train, Y_train, batch_size=128, epochs=10)"
   ]
  },
  {
   "cell_type": "code",
   "execution_count": 15,
   "metadata": {},
   "outputs": [
    {
     "name": "stdout",
     "output_type": "stream",
     "text": [
      " 9472/10000 [===========================>..] - ETA: 0s"
     ]
    },
    {
     "data": {
      "text/plain": [
       "0.09173990068372441"
      ]
     },
     "execution_count": 15,
     "metadata": {},
     "output_type": "execute_result"
    }
   ],
   "source": [
    "score = model.evaluate(X_test, Y_test)\n",
    "score"
   ]
  },
  {
   "cell_type": "code",
   "execution_count": 17,
   "metadata": {},
   "outputs": [
    {
     "name": "stdout",
     "output_type": "stream",
     "text": [
      " 8928/10000 [=========================>....] - ETA: 0s"
     ]
    }
   ],
   "source": [
    "predicted_classes = model.predict_classes(X_test)\n",
    "correct_indices = np.nonzero(predicted_classes == y_test)[0]\n",
    "incorrect_indices = np.nonzero(predicted_classes != y_test)[0]"
   ]
  },
  {
   "cell_type": "code",
   "execution_count": 18,
   "metadata": {},
   "outputs": [
    {
     "data": {
      "text/plain": [
       "array([   0,    1,    2, ..., 9997, 9998, 9999])"
      ]
     },
     "execution_count": 18,
     "metadata": {},
     "output_type": "execute_result"
    }
   ],
   "source": [
    "correct_indices"
   ]
  },
  {
   "cell_type": "code",
   "execution_count": 19,
   "metadata": {},
   "outputs": [
    {
     "data": {
      "text/plain": [
       "array([  18,   96,  115,  149,  151,  247,  259,  321,  326,  340,  381,\n",
       "        445,  582,  619,  684,  720,  844,  846,  877,  947,  951,  956,\n",
       "        965, 1014, 1039, 1112, 1181, 1226, 1242, 1247, 1289, 1299, 1319,\n",
       "       1378, 1393, 1441, 1530, 1549, 1554, 1618, 1678, 1681, 1717, 1748,\n",
       "       1800, 1941, 1981, 1987, 2004, 2018, 2040, 2070, 2098, 2109, 2118,\n",
       "       2125, 2130, 2135, 2182, 2224, 2293, 2339, 2369, 2414, 2447, 2462,\n",
       "       2488, 2534, 2648, 2654, 2743, 2810, 2877, 2921, 2927, 2939, 2953,\n",
       "       2970, 3073, 3115, 3117, 3172, 3284, 3375, 3388, 3405, 3422, 3475,\n",
       "       3503, 3520, 3549, 3558, 3565, 3601, 3681, 3718, 3727, 3757, 3762,\n",
       "       3780, 3806, 3808, 3818, 3838, 3906, 3926, 3941, 3943, 3950, 3984,\n",
       "       4017, 4065, 4075, 4199, 4201, 4207, 4248, 4269, 4289, 4300, 4306,\n",
       "       4355, 4360, 4382, 4437, 4443, 4497, 4504, 4534, 4536, 4547, 4551,\n",
       "       4567, 4731, 4740, 4783, 4807, 4808, 4814, 4830, 4860, 4880, 5067,\n",
       "       5265, 5676, 5734, 5749, 5887, 5926, 5936, 5937, 5955, 5972, 5973,\n",
       "       5981, 5997, 6011, 6023, 6046, 6059, 6370, 6421, 6511, 6555, 6576,\n",
       "       6597, 6625, 6651, 6755, 6847, 7186, 7451, 7472, 7800, 7821, 7842,\n",
       "       7921, 8020, 8062, 8143, 8198, 8246, 8277, 8311, 8325, 8406, 8522,\n",
       "       8527, 9009, 9015, 9024, 9071, 9422, 9482, 9513, 9587, 9664, 9679,\n",
       "       9729, 9742, 9745, 9768, 9770, 9777, 9779, 9792, 9839, 9883])"
      ]
     },
     "execution_count": 19,
     "metadata": {},
     "output_type": "execute_result"
    }
   ],
   "source": [
    "incorrect_indices"
   ]
  },
  {
   "cell_type": "code",
   "execution_count": 20,
   "metadata": {},
   "outputs": [
    {
     "data": {
      "image/png": "[encoded data removed]",
      "text/plain": [
       "<matplotlib.figure.Figure at 0x7fbc4c363bd0>"
      ]
     },
     "metadata": {},
     "output_type": "display_data"
    },
    {
     "data": {
      "image/png": "[encoded data removed]",
      "text/plain": [
       "<matplotlib.figure.Figure at 0x7fbc4c66d610>"
      ]
     },
     "metadata": {},
     "output_type": "display_data"
    }
   ],
   "source": [
    "plt.figure()\n",
    "for i, correct in enumerate(correct_indices[:9]):\n",
    "    plt.subplot(3,3,i+1)\n",
    "    plt.imshow(X_test[correct].reshape(28,28), cmap='gray', interpolation='none')\n",
    "    plt.title(\"Predicted {}, Class {}\".format(predicted_classes[correct], y_test[correct]))\n",
    "    \n",
    "plt.figure()\n",
    "for i, incorrect in enumerate(incorrect_indices[:9]):\n",
    "    plt.subplot(3,3,i+1)\n",
    "    plt.imshow(X_test[incorrect].reshape(28,28), cmap='gray', interpolation='none')\n",
    "    plt.title(\"Predicted {}, Class {}\".format(predicted_classes[incorrect], y_test[incorrect]))"
   ]
  },
  {
   "cell_type": "code",
   "execution_count": null,
   "metadata": {
    "collapsed": true
   },
   "outputs": [],
   "source": []
  }
 ],
 "metadata": {
  "kernelspec": {
   "display_name": "Python 2",
   "language": "python",
   "name": "python2"
  },
  "language_info": {
   "codemirror_mode": {
    "name": "ipython",
    "version": 2
   },
   "file_extension": ".py",
   "mimetype": "text/x-python",
   "name": "python",
   "nbconvert_exporter": "python",
   "pygments_lexer": "ipython2",
   "version": "2.7.6"
  }
 },
 "nbformat": 4,
 "nbformat_minor": 2
}
